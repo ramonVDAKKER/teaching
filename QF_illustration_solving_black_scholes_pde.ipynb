{
  "nbformat": 4,
  "nbformat_minor": 0,
  "metadata": {
    "colab": {
      "name": "QF_illustration_solving_black_scholes_pde.ipynb",
      "provenance": [],
      "collapsed_sections": [],
      "authorship_tag": "ABX9TyPoSMTt81xrTZ++0xKNTVZk",
      "include_colab_link": true
    },
    "kernelspec": {
      "name": "python3",
      "display_name": "Python 3"
    },
    "language_info": {
      "name": "python"
    }
  },
  "cells": [
    {
      "cell_type": "markdown",
      "metadata": {
        "id": "view-in-github",
        "colab_type": "text"
      },
      "source": [
        "<a href=\"https://colab.research.google.com/github/ramonVDAKKER/teaching/blob/main/QF_illustration_solving_black_scholes_pde.ipynb\" target=\"_parent\"><img src=\"https://colab.research.google.com/assets/colab-badge.svg\" alt=\"Open In Colab\"/></a>"
      ]
    },
    {
      "cell_type": "markdown",
      "metadata": {
        "id": "qLwR5_RWlpAP"
      },
      "source": [
        "# Quantitative Finance - solving the Black-Scholes Partial Differential Equation numerically"
      ]
    },
    {
      "cell_type": "markdown",
      "metadata": {
        "id": "FJ5aDcEvUyE_"
      },
      "source": [
        "We seek the function $V=V(t,s)$ satisfying the Black-Scholes PDE\n",
        "$$\n",
        "\\frac{\\delta V}{\\delta t}(t,s) + r s \\frac{\\partial V}{\\partial\n",
        "s}(t,s) + \\frac{1}{2}\\sigma^2 s^2 \\frac{\\partial^2 V}{\\partial\n",
        "s^2}(t,s) -r V(t,s)=0\\quad \\forall s\\in [0,\\infty),\\quad \\forall t\\in [0,T],\n",
        "$$\n",
        "subject to the constraint\n",
        "$V(T,s)=F_T(s)$ $\\forall s\\in [0,\\infty)$,\n",
        "where $F_T$, the terminal boundary condition, is the payoff at maturity of the option whose price we want to determine (for example, $F_T(s)=\\max\\{K-s,0\\}$ for a European put option with strike price $K$ and maturity $T$).\n"
      ]
    },
    {
      "cell_type": "markdown",
      "metadata": {
        "id": "2Qm-jlNlU-g_"
      },
      "source": [
        "\n",
        "Sometimes it is possible to find an analytical solution to the PDE (e.g. the Black-Scholes formula for the price of a European call option).\n",
        "How does this work? The Black-Scholes PDE can be transformed in the heat equation. The heat equation is a PDE that is relevant in physics and because of that a well-studied object in mathematics and physics. So if you need to price a derivative with payoff $F_T$ you can try to rewrite the problem in terms of the heat equation and to consult the literature on the heat equation whether an analytical solution is known for this boundary condition.\n",
        "In general, one will resort to numerical techniques to determine the solution to the Black-Scholes PDE. Below we discuss one of the simplest numerical algorithms.\n"
      ]
    },
    {
      "cell_type": "markdown",
      "metadata": {
        "id": "ZQ6qcHIEVhiG"
      },
      "source": [
        "Divide the time-interval $[0, T]$ into $N$ equally sized subintervals of length $dt$. The price of the underlying asset will in principle take values in $[0,\\infty)$. In the algorithm an artificial limit,  $S_{\\text{max}}$ is introduced. The size of\n",
        "$S_{\\text{max}}$ requires experimentation. It is not hard to imagine that this choice should be related to the shape of $s\\mapsto F_T(s)$.\n",
        "Next, the interval $[0, S_{\\text{max}}]$ is divided into $M$ equally sized subintervals of length $ds$.\n",
        "So we are going to approximate the continuous space $[0, T]\\times [0,\\infty)$ by a finite grid $(t_i, s_j )$, where $t_i = i\\cdot dt$ and\n",
        "$s_j = j\\cdot ds$, $i\\in\\{0, 1, . . . ,N\\}$ and $j\\in\\{0, 1, . . . ,M\\}$. In the following we abbreviate $V(t_i,s_j)$ to $V_{i,j}$.\n",
        "Next we use the following numerical approximations to the derivatives,\n",
        "$$\\frac{\\partial V}{\\partial s}(t_i,s_j)\\approx \\frac{ V_{i,j+1} -V_{i,j-1}} {2 ds }, $$\n",
        "$$\n",
        "\\frac{\\partial^2 V}{\\partial s^2}(t_i,s_j)\\approx\\frac{ V_{i,j+1} -2V_{i,j} +V_{i,j-1}} { (ds)^2 },\n",
        "$$\n",
        "$$\n",
        "\\frac{\\partial V}{\\partial t}(t_i,s_j)\\approx \\frac{ V_{i+1,j} -V_{i,j}} {dt }.\n",
        "$$\n"
      ]
    },
    {
      "cell_type": "markdown",
      "metadata": {
        "id": "2zK_uLlJVh6a"
      },
      "source": [
        "Inserting these approximations into the Black-Scholes PDE we arrive at\n",
        "\\begin{align*}\n",
        "\\frac{ V_{i+1,j} -V_{i,j}} {dt } + rjds \\frac{ V_{i,j+1} -V_{i,j-1}} {2 ds }  + \\frac{1}{2}\\sigma^2 (jds)^2\n",
        "\\frac{ V_{i,j+1} -2V_{i,j} +V_{i,j-1}} { (ds)^2 }\n",
        "-r V_{i,j}=0.\n",
        "\\end{align*}\n",
        "Introducing\n",
        "\\begin{align*}\n",
        "a_j &= \\frac{1}{2}rjdt - \\frac{1}{2}\\sigma^2j^2dt, \\\\\n",
        "b_j &= 1 + \\sigma^2j^2 dt + rdt, \\\\\n",
        "c &= -\\frac{1}{2}rjdt - \\frac{1}{2}\\sigma^2 j^2dt,\n",
        "\\end{align*}\n",
        "we can rewrite the equation as follows:\n",
        "\\begin{align*}\n",
        "a_j V_{i,j-1}+b_j V_{i,j}+c_j V_{i,j+1}- V_{i+1,j}=0.\n",
        "\\end{align*}\n",
        "Fixing $i\\in\\{0,\\dots,N-1\\}$ and reformulating the equations of the previous display into matrix notation we obtain\n",
        "\\begin{align*}\n",
        "\\begin{pmatrix}\n",
        "b_1 & c_1 & 0   & 0   & 0   & \\cdots   & 0 \\\\\n",
        "a_2 & b_2 & c_2 & 0   & 0   & \\cdots   & 0 \\\\\n",
        "0   & a_3 & b_3 & c_3 & 0   & \\cdots   & 0 \\\\\n",
        "\\vdots & \\ddots & \\ddots & \\ddots & \\ddots & \\ddots & \\vdots \\\\\n",
        "\\vdots & \\vdots & \\ddots & \\ddots & \\ddots & \\ddots & \\vdots \\\\\n",
        "0      &   0    &0 &0 & a_{M-2} & b_{M-2} & c_{M-2}  \\\\\n",
        "0 & 0 & 0 & 0 & 0 & a_{M-1} & b_{M-1}\n",
        "\\end{pmatrix}\n",
        "\\begin{pmatrix}\n",
        "V_{i,1} \\\\ \\vdots \\\\ \\vdots \\\\ \\vdots \\\\ \\vdots \\\\ V_{i,M-1}\n",
        "\\end{pmatrix}\n",
        "=\n",
        "\\begin{pmatrix}\n",
        "V_{i+1,1}-a_1 V_{i,0}\n",
        "\\\\\n",
        "V_{i+1,2}\n",
        "\\\\\n",
        "\\\\ \\vdots \\\\ \\vdots \\\\  V_{i+1,M-2} \\\\ V_{i+1,M-1}-c_{M-1} V_{i+1,M}.\n",
        "\\end{pmatrix}\n",
        "\\end{align*}\n",
        "The boundary values $V_{i,0}$ and $V_{i,M}$ should be derived by ad hoc arguments and are specific for the derivative of interest.\n",
        "For a European put option, $F_T(s)=\\max\\{K-s,0\\}$, we can take $V_{i,0}=K$ and $V_{i,M}=0$.\n",
        "\n",
        "Below we consider a basic implementation in Python."
      ]
    },
    {
      "cell_type": "markdown",
      "metadata": {
        "id": "9eGcPbhGl1yS"
      },
      "source": [
        "## 0. Import packages"
      ]
    },
    {
      "cell_type": "code",
      "metadata": {
        "id": "6_9rGdvhA1oY"
      },
      "source": [
        "!pip install  scipy==1.7.1 # we need recent version"
      ],
      "execution_count": null,
      "outputs": []
    },
    {
      "cell_type": "code",
      "metadata": {
        "id": "l4fNRmrUlx6k"
      },
      "source": [
        "import numpy as np\n",
        "from scipy.sparse import diags\n",
        "from scipy.sparse.linalg import spsolve\n",
        "import matplotlib.pyplot as plt\n",
        "from mpl_toolkits.mplot3d import Axes3D"
      ],
      "execution_count": null,
      "outputs": []
    },
    {
      "cell_type": "markdown",
      "metadata": {
        "id": "nUEtghU2XpfV"
      },
      "source": [
        "# 1. Example"
      ]
    },
    {
      "cell_type": "markdown",
      "metadata": {
        "id": "Nr4rIB5fXs_k"
      },
      "source": [
        "Consider the following parameters for the Black-Scholes market and the put:"
      ]
    },
    {
      "cell_type": "code",
      "metadata": {
        "id": "m2khLihlVTec"
      },
      "source": [
        "s_0 = 100\n",
        "K = 90\n",
        "sigma = .15\n",
        "r = .01\n",
        "T = 3"
      ],
      "execution_count": null,
      "outputs": []
    },
    {
      "cell_type": "markdown",
      "metadata": {
        "id": "ETw9tIEYXzry"
      },
      "source": [
        "The following function can be used to determine the numerical approximation to the put price. The algorithm requires a choice for the tuning parameters Smax, dS, and dT. Besides a (visual) presentation of the put prices, the function also returns the price of the put at t=0 using $S_0$=s_0. If s_0 is not in the grid, the point that is closest to s_0 is used."
      ]
    },
    {
      "cell_type": "code",
      "metadata": {
        "id": "iH8Ud_uWrRIc"
      },
      "source": [
        "def approximation_price_put(Smax: float, dS: float, K: float, dT:float, T: float, r: float, sigma: float):\n",
        "  \"\"\"This function implements the algorithm that has been described above.\"\"\"\n",
        "\n",
        "  if K > Smax:\n",
        "    raise ValueError(\"Smax should be larger than the strike price.\")\n",
        "  # preparations in order to define grid:\n",
        "  M = np.int(np.ceil(Smax / dS)) # number of points in grid for stockprice\n",
        "  ds = Smax / M  # mesh in grid for stockprice\n",
        "  N = int(np.ceil(T / dT)) # number of points in grid for time\n",
        "  dt = T / N # mesh in grid for time\n",
        "  # define time grid and grid for stock price:\n",
        "  t = np.linspace(0, T, N + 1)\n",
        "  S = np.linspace(0, Smax, M + 1)\n",
        "  # intialize value function V (i.e. price option on grid):\n",
        "  V = np.zeros((N + 1, M + 1))  # time x stock price\n",
        "  # set boundary conditions (for payoff at maturity):\n",
        "  V[N, :] = np.maximum(K - S, 0) # boundary at t=T, i.e. pay-off\n",
        "  V[:, M] = 0 # boundary a t  and S=Smax, note that this approximation only makes sense if Smax is large enough!\n",
        "  V[:, 0] = K # if S = 0 then V = K for all t \n",
        "  # set up difference equation\n",
        "  J = np.arange(1, M - 1 + 1)\n",
        "  a = .5 * r  * J * dt - 0.5 * sigma ** 2  * J ** 2 * dt\n",
        "  b = 1 + sigma ** 2 * dt * J ** 2 + r * dt\n",
        "  c = -0.5 * r * dt * J - .5 * sigma ** 2 * dt *J ** 2\n",
        "  A = diags([a[1:], b, c[: -1]], offsets=[-1, 0, 1])\n",
        "  # solve V recursively\n",
        "  for i in range(N, 0, -1):\n",
        "    y = np.ravel(V[i, 1 : M])\n",
        "    y[0] = y[0] - a[0] * K\n",
        "    V[i - 1, 1 : M] = np.transpose(spsolve(A, y))\n",
        "  fig = plt.figure(figsize=(15,15))\n",
        "  ax = plt.axes(projection='3d')\n",
        "  stockprice, time = np.meshgrid(S, t)\n",
        "  ax.plot_surface(time, stockprice, V,  cmap=\"gray\")\n",
        "  ax.set_xlabel(\"time\")\n",
        "  ax.set_ylabel(\"stockprice\")\n",
        "  ax.set_zlabel(\"put price\")  \n",
        "  ax.view_init(20, 0)\n",
        "  return V, S, t"
      ],
      "execution_count": null,
      "outputs": []
    },
    {
      "cell_type": "code",
      "metadata": {
        "id": "4k6uNA9gc4im"
      },
      "source": [
        "# Grid settings\n",
        "Smax = 250\n",
        "dS = .32\n",
        "dT = 1 / 250\n",
        "V, S, _ = approximation_price_put(Smax, dS, K, dT, T, r, sigma)"
      ],
      "execution_count": null,
      "outputs": []
    },
    {
      "cell_type": "code",
      "metadata": {
        "id": "-wFgQX-gbwgJ"
      },
      "source": [
        "nearest_idx = np.where(abs(S - s_0) == abs(S - s_0).min())[0][0] # find index of point in stock price grid closest to S_0\n",
        "S_0_proxy = S[nearest_idx] # If you directly want the element of array (array) nearest to the given number (num)\n",
        "print(f\"The closest point to S_0 on the grid is {S_0_proxy}\")\n",
        "print(f\"The (approximation to the) price of the put at t=0, S_0=s_0 is {V[0, nearest_idx]}\")"
      ],
      "execution_count": null,
      "outputs": []
    }
  ]
}